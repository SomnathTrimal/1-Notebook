{
  "metadata": {
    "language_info": {
      "codemirror_mode": {
        "name": "python",
        "version": 3
      },
      "file_extension": ".py",
      "mimetype": "text/x-python",
      "name": "python",
      "nbconvert_exporter": "python",
      "pygments_lexer": "ipython3",
      "version": "3.8"
    },
    "kernelspec": {
      "name": "python",
      "display_name": "Python (Pyodide)",
      "language": "python"
    }
  },
  "nbformat_minor": 4,
  "nbformat": 4,
  "cells": [
    {
      "cell_type": "markdown",
      "source": "Data Science Tools and Ecosystem",
      "metadata": {}
    },
    {
      "cell_type": "markdown",
      "source": "Data science is the study of data to extract meaningful insights for business. It is a multidisciplinary approach that combines principles \nand practices from the fields of mathematics, statistics, artificial intelligence, and computer engineering to analyze large amounts of data. \nThis analysis helps data scientists to ask and answer questions like what happened, why it happened, what will happen, and what can be done with \nthe results.",
      "metadata": {}
    },
    {
      "cell_type": "markdown",
      "source": "Data science languages are python, R, Apache ,Hadoop SQL Scala Javascript and Java",
      "metadata": {}
    },
    {
      "cell_type": "markdown",
      "source": "Data science python library are \nTensorFlow\nNumPy\nSciPy \nPandas\nMatplotlib \nKeras\nSciKit-Learn\nR Libraries are 1. dplyr · 2. ggplot2 · 3. Esquisse · 4. Shiny · 5. mlr3 · 6. Lubridate · 7. RCrawler · 8. knitr.",
      "metadata": {}
    },
    {
      "cell_type": "markdown",
      "source": "Data science tools are anaconda Jupiter,  R studio,  Git Github Person Studio Watson Studio Cloud Technology Sql Machine Learning Deep Learning",
      "metadata": {}
    },
    {
      "cell_type": "code",
      "source": "A + B = c",
      "metadata": {},
      "execution_count": null,
      "outputs": []
    },
    {
      "cell_type": "code",
      "source": "num1 = 15\nnum2 = 12\n \nsum = num1 + num2\n \nprint(\"Sum of\", num1, \"and\", num2 , \"is\", sum)",
      "metadata": {},
      "execution_count": null,
      "outputs": []
    },
    {
      "cell_type": "code",
      "source": "Sum of 15 and 12 is 27",
      "metadata": {},
      "execution_count": null,
      "outputs": []
    },
    {
      "cell_type": "markdown",
      "source": "Author- Somnath Trimal",
      "metadata": {}
    },
    {
      "cell_type": "markdown",
      "source": "",
      "metadata": {}
    },
    {
      "cell_type": "code",
      "source": "Data science is the study of data to extract meaningful insights for business. It is a multidisciplinary approach that combines principles \nand practices from the fields of mathematics, statistics, artificial intelligence, and computer engineering to analyze large amounts of data. \nThis analysis helps data scientists to ask and answer questions like what happened, why it happened, what will happen, and what can be done with \nthe results.",
      "metadata": {},
      "execution_count": null,
      "outputs": []
    }
  ]
}